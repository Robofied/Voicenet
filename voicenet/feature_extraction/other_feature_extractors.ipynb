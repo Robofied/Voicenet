{
 "cells": [
  {
   "cell_type": "markdown",
   "source": [
    "## Feature Extraction"
   ],
   "metadata": {}
  },
  {
   "cell_type": "code",
   "execution_count": 3,
   "source": [
    "from python_speech_features import mfcc, delta\n",
    "import scipy.io.wavfile as wav\n",
    "from sklearn import preprocessing\n",
    "import os\n",
    "import numpy as np\n",
    "import wave\n",
    "import librosa\n",
    "import librosa\n",
    "import librosa.display\n",
    "import matplotlib.pyplot as plt "
   ],
   "outputs": [],
   "metadata": {}
  },
  {
   "cell_type": "markdown",
   "source": [
    "## A. Data Loading"
   ],
   "metadata": {}
  },
  {
   "cell_type": "markdown",
   "source": [
    "<b> a. With Librosa"
   ],
   "metadata": {}
  },
  {
   "cell_type": "code",
   "execution_count": 2,
   "source": [
    "plt.figure(figsize=(10,7))\n",
    "data,sample_rate=librosa.load('ST-AEDS-20180100_1-OS/m0005_us_m0005_00422.wav')\n",
    "#librosa.display.waveplot(data,sr=sample_rate)\n",
    "print(sample_rate)"
   ],
   "outputs": [
    {
     "output_type": "stream",
     "name": "stdout",
     "text": [
      "22050\n"
     ]
    },
    {
     "output_type": "display_data",
     "data": {
      "text/plain": [
       "<Figure size 720x504 with 0 Axes>"
      ]
     },
     "metadata": {}
    }
   ],
   "metadata": {}
  },
  {
   "cell_type": "markdown",
   "source": [
    "<b> b. With Scipy"
   ],
   "metadata": {}
  },
  {
   "cell_type": "code",
   "execution_count": 3,
   "source": [
    "from scipy.io import wavfile as wav\n",
    "rate,audio=wav.read('ST-AEDS-20180100_1-OS/m0005_us_m0005_00422.wav')\n",
    "print(audio.shape)\n",
    "print(rate)"
   ],
   "outputs": [
    {
     "output_type": "stream",
     "name": "stdout",
     "text": [
      "(52480,)\n",
      "16000\n"
     ]
    }
   ],
   "metadata": {}
  },
  {
   "cell_type": "markdown",
   "source": [
    "## B. Feature Extraction"
   ],
   "metadata": {}
  },
  {
   "cell_type": "markdown",
   "source": [
    "### 1. MFCC"
   ],
   "metadata": {}
  },
  {
   "cell_type": "code",
   "execution_count": 5,
   "source": [
    "def MFCC(filename):\n",
    "    \n",
    "    (rate,sig) = wav.read(os.path.join(filename))\n",
    "    mfcc_feature = mfcc(sig,rate, lowfreq=0,)\n",
    "    mfcc_feature  = preprocessing.scale(mfcc_feature)\n",
    "    deltas        = delta(mfcc_feature, 2)\n",
    "    double_deltas = delta(deltas, 2)\n",
    "    combined_feature      = np.hstack((mfcc_feature, deltas, double_deltas))\n",
    "    return combined_feature"
   ],
   "outputs": [],
   "metadata": {}
  },
  {
   "cell_type": "code",
   "execution_count": 7,
   "source": [
    "MFCC('ST-AEDS-20180100_1-OS/m0005_us_m0005_00422.wav').shape"
   ],
   "outputs": [
    {
     "output_type": "execute_result",
     "data": {
      "text/plain": [
       "(327, 39)"
      ]
     },
     "metadata": {},
     "execution_count": 7
    }
   ],
   "metadata": {}
  },
  {
   "cell_type": "markdown",
   "source": [
    "### 2. Filterbank"
   ],
   "metadata": {}
  },
  {
   "cell_type": "code",
   "execution_count": 8,
   "source": [
    "from python_speech_features import fbank"
   ],
   "outputs": [],
   "metadata": {}
  },
  {
   "cell_type": "code",
   "execution_count": 9,
   "source": [
    "def filterbank(filename):   \n",
    "    (rate,sig) = wav.read(os.path.join(filename))\n",
    "    fb_feature=fbank(audio,rate,lowfreq=0,)\n",
    "    fb_feature  = preprocessing.scale(fb_feature[0])\n",
    "    deltas        = delta(fb_feature, 2)\n",
    "    double_deltas = delta(deltas, 2)\n",
    "    combined_feature      = np.hstack((fb_feature, deltas, double_deltas))\n",
    "    return combined_feature"
   ],
   "outputs": [],
   "metadata": {}
  },
  {
   "cell_type": "code",
   "execution_count": 11,
   "source": [
    "filterbank('ST-AEDS-20180100_1-OS/m0005_us_m0005_00422.wav').shape"
   ],
   "outputs": [
    {
     "output_type": "execute_result",
     "data": {
      "text/plain": [
       "(295, 78)"
      ]
     },
     "metadata": {},
     "execution_count": 11
    }
   ],
   "metadata": {}
  },
  {
   "cell_type": "markdown",
   "source": [
    "## Spafe\n",
    "[SPAFE](https://github.com/SuperKogito/spafe) has a collection of different feature extractors implemented. Various examples on how to use spafe filter banks or feature extraction techniques are available under [examples](https://github.com/SuperKogito/spafe/tree/master/examples)."
   ],
   "metadata": {}
  },
  {
   "cell_type": "code",
   "execution_count": 15,
   "source": [
    "pip install spafe"
   ],
   "outputs": [
    {
     "output_type": "stream",
     "name": "stdout",
     "text": [
      "Requirement already satisfied: spafe in ./voicenv/lib/python3.8/site-packages (0.1.2)\n",
      "Requirement already satisfied: numpy>=1.17.2 in ./voicenv/lib/python3.8/site-packages (from spafe) (1.21.1)\n",
      "Requirement already satisfied: scipy>=1.3.1 in ./voicenv/lib/python3.8/site-packages (from spafe) (1.7.1)\n",
      "Note: you may need to restart the kernel to use updated packages.\n"
     ]
    }
   ],
   "metadata": {}
  },
  {
   "cell_type": "markdown",
   "source": [
    "### 3. Linear Predictive Coding (LPC)"
   ],
   "metadata": {}
  },
  {
   "cell_type": "code",
   "execution_count": 40,
   "source": [
    "from spafe.features.lpc import lpc,lpcc\n",
    "\n",
    "def lpc_spafe(filename):   \n",
    "    (rate,sig) = wav.read(os.path.join(filename))\n",
    "    lpc_feature=lpc(audio,rate) #or lpcc(audio,rate)\n",
    "    lpc_feature\n",
    "    lpc_feature  = preprocessing.scale(lpc_feature)\n",
    "    deltas        = delta(lpc_feature, 2)\n",
    "    double_deltas = delta(deltas, 2)\n",
    "    combined_feature      = np.hstack((lpc_feature, deltas, double_deltas))\n",
    "    return combined_feature"
   ],
   "outputs": [],
   "metadata": {}
  },
  {
   "cell_type": "code",
   "execution_count": 33,
   "source": [
    "lpc_spafe('ST-AEDS-20180100_1-OS/m0005_us_m0005_00422.wav').shape"
   ],
   "outputs": [
    {
     "output_type": "execute_result",
     "data": {
      "text/plain": [
       "(302, 39)"
      ]
     },
     "metadata": {},
     "execution_count": 33
    }
   ],
   "metadata": {}
  },
  {
   "cell_type": "markdown",
   "source": [
    "### 4. Bark Frequency Cepstral Coefficient (BFCC)"
   ],
   "metadata": {}
  },
  {
   "cell_type": "code",
   "execution_count": 4,
   "source": [
    "from spafe.features.bfcc import bfcc\n",
    "\n",
    "def bfcc_spafe(filename):   \n",
    "    (rate,sig) = wav.read(os.path.join(filename))\n",
    "    bfcc_feature=bfcc(sig,rate,low_freq=0)\n",
    "    bfcc_feature\n",
    "    bfcc_feature  = preprocessing.scale(bfcc_feature)\n",
    "    deltas        = delta(bfcc_feature, 2)\n",
    "    double_deltas = delta(deltas, 2)\n",
    "    combined_feature      = np.hstack((bfcc_feature, deltas, double_deltas))\n",
    "    return combined_feature"
   ],
   "outputs": [],
   "metadata": {}
  },
  {
   "cell_type": "code",
   "execution_count": 5,
   "source": [
    "bfcc_spafe('ST-AEDS-20180100_1-OS/m0005_us_m0005_00422.wav')"
   ],
   "outputs": [
    {
     "output_type": "execute_result",
     "data": {
      "text/plain": [
       "array([[-1.3648115 , -0.2000881 ,  0.70963554, ...,  0.1227477 ,\n",
       "        -0.01772412, -0.07713884],\n",
       "       [-1.44031137, -0.13492665,  0.76560042, ...,  0.18222279,\n",
       "        -0.02055833, -0.07142815],\n",
       "       [-1.44524298, -0.48402188,  0.33931808, ...,  0.1587244 ,\n",
       "        -0.0112999 , -0.05122105],\n",
       "       ...,\n",
       "       [-1.27162822, -0.11282422,  0.74014279, ...,  0.05455623,\n",
       "         0.11598528,  0.08536465],\n",
       "       [-1.27221153,  0.20528767,  0.76921206, ...,  0.10516836,\n",
       "         0.14359657,  0.11064443],\n",
       "       [-1.28802288,  0.37646174,  0.91929387, ...,  0.06560141,\n",
       "         0.09067088,  0.066169  ]])"
      ]
     },
     "metadata": {},
     "execution_count": 5
    }
   ],
   "metadata": {}
  },
  {
   "cell_type": "markdown",
   "source": [
    "### 5. Linear Frequency Cepstral Coefficient (LFCC)"
   ],
   "metadata": {}
  },
  {
   "cell_type": "code",
   "execution_count": 7,
   "source": [
    "from spafe.features.lfcc import lfcc\n",
    "\n",
    "def lfcc_spafe(filename):   \n",
    "    (rate,sig) = wav.read(os.path.join(filename))\n",
    "    lfcc_feature=lfcc(sig,rate,low_freq=0)\n",
    "    lfcc_feature\n",
    "    lfcc_feature  = preprocessing.scale(lfcc_feature)\n",
    "    deltas        = delta(lfcc_feature, 2)\n",
    "    double_deltas = delta(deltas, 2)\n",
    "    combined_feature      = np.hstack((lfcc_feature, deltas, double_deltas))\n",
    "    return combined_feature"
   ],
   "outputs": [],
   "metadata": {}
  },
  {
   "cell_type": "code",
   "execution_count": 8,
   "source": [
    "lfcc_spafe('ST-AEDS-20180100_1-OS/m0005_us_m0005_00422.wav')"
   ],
   "outputs": [
    {
     "output_type": "execute_result",
     "data": {
      "text/plain": [
       "array([[-1.10182334, -0.22626736, -0.82609706, ...,  0.00599013,\n",
       "        -0.0116137 , -0.07004604],\n",
       "       [-1.17102277, -0.14641885, -1.06846761, ...,  0.05309552,\n",
       "        -0.05709961, -0.10156803],\n",
       "       [-1.13740565, -0.19952466, -1.09553133, ...,  0.10487634,\n",
       "        -0.09038651, -0.10326062],\n",
       "       ...,\n",
       "       [-1.06682431, -0.23435093, -0.76934373, ...,  0.029299  ,\n",
       "         0.06508178, -0.12630983],\n",
       "       [-1.12495651, -0.13154205, -0.69080501, ...,  0.01929752,\n",
       "         0.11047756, -0.1057171 ],\n",
       "       [-1.14462474, -0.10105876, -0.53588648, ...,  0.01706412,\n",
       "         0.0626383 , -0.05995113]])"
      ]
     },
     "metadata": {},
     "execution_count": 8
    }
   ],
   "metadata": {}
  },
  {
   "cell_type": "markdown",
   "source": [
    "### 6. Revising Perceptual Linear Prediction (RPLP)"
   ],
   "metadata": {}
  },
  {
   "cell_type": "code",
   "execution_count": 6,
   "source": [
    "from spafe.features.rplp import rplp\n",
    "\n",
    "def rplp_spafe(filename):   \n",
    "    (rate,sig) = wav.read(os.path.join(filename))\n",
    "    rplp_feature=rplp(sig,rate)\n",
    "    rplp_feature\n",
    "    rplp_feature  = preprocessing.scale(rplp_feature)\n",
    "    deltas        = delta(rplp_feature, 2)\n",
    "    double_deltas = delta(deltas, 2)\n",
    "    combined_feature      = np.hstack((rplp_feature, deltas, double_deltas))\n",
    "    return combined_feature"
   ],
   "outputs": [],
   "metadata": {}
  },
  {
   "cell_type": "code",
   "execution_count": 8,
   "source": [
    "rplp_spafe('ST-AEDS-20180100_1-OS/m0005_us_m0005_00422.wav')"
   ],
   "outputs": [
    {
     "output_type": "execute_result",
     "data": {
      "text/plain": [
       "array([[-4.60114708e-03, -1.24285261e-03, -1.01255624e-02, ...,\n",
       "        -8.96320077e-05, -3.36838135e-04, -7.70508338e-04],\n",
       "       [-4.60114708e-03, -1.24285261e-03, -1.01255624e-02, ...,\n",
       "        -3.54048771e-04, -9.33315601e-04, -2.06573062e-03],\n",
       "       [-4.60114708e-03, -1.24285261e-03, -1.01255624e-02, ...,\n",
       "        -1.25465503e-03, -1.82416846e-03, -2.91928640e-03],\n",
       "       ...,\n",
       "       [-2.46302022e-02, -1.99864367e-02, -5.73396137e-02, ...,\n",
       "        -4.68732173e-04, -1.90659204e-04,  3.36183047e-03],\n",
       "       [-4.15632952e-02, -4.18575739e-02, -1.10418961e-01, ...,\n",
       "        -1.10201811e-04, -1.37676073e-03, -1.25136881e-03],\n",
       "       [-5.59372248e-02, -6.00970979e-02, -1.55123426e-01, ...,\n",
       "         7.93909168e-04, -9.75189970e-04, -3.38316013e-03]])"
      ]
     },
     "metadata": {},
     "execution_count": 8
    }
   ],
   "metadata": {}
  },
  {
   "cell_type": "markdown",
   "source": [
    "### 7. Normlized Grammarchirp Cepstral Coefficient (NGCC)"
   ],
   "metadata": {}
  },
  {
   "cell_type": "code",
   "execution_count": 9,
   "source": [
    "from spafe.features.ngcc import ngcc\n",
    "\n",
    "def ngcc_spafe(filename):   \n",
    "    (rate,sig) = wav.read(os.path.join(filename))\n",
    "    ngcc_feature=ngcc(sig,rate)\n",
    "    ngcc_feature\n",
    "    ngcc_feature  = preprocessing.scale(ngcc_feature)\n",
    "    deltas        = delta(ngcc_feature, 2)\n",
    "    double_deltas = delta(deltas, 2)\n",
    "    combined_feature      = np.hstack((ngcc_feature, deltas, double_deltas))\n",
    "    return combined_feature"
   ],
   "outputs": [],
   "metadata": {}
  },
  {
   "cell_type": "code",
   "execution_count": 10,
   "source": [
    "ngcc_spafe('ST-AEDS-20180100_1-OS/m0005_us_m0005_00422.wav')"
   ],
   "outputs": [
    {
     "output_type": "execute_result",
     "data": {
      "text/plain": [
       "array([[-1.20880921, -0.35442179,  0.35208147, ...,  0.0415037 ,\n",
       "         0.09338459, -0.0584096 ],\n",
       "       [-1.1940691 , -0.10078899,  0.57252485, ...,  0.19156198,\n",
       "         0.20660415,  0.03373905],\n",
       "       [-1.26432874, -0.58355093,  0.25806344, ...,  0.30123794,\n",
       "         0.2223628 ,  0.13312751],\n",
       "       ...,\n",
       "       [-1.12361714, -0.01716192,  0.60810753, ..., -0.02335087,\n",
       "        -0.04803602,  0.3138255 ],\n",
       "       [-1.12540512,  0.09232404,  0.49288214, ..., -0.01234885,\n",
       "        -0.06409792,  0.2549323 ],\n",
       "       [-1.09371381,  0.29495027,  0.52461615, ...,  0.00150291,\n",
       "        -0.03852663,  0.08108373]])"
      ]
     },
     "metadata": {},
     "execution_count": 10
    }
   ],
   "metadata": {}
  }
 ],
 "metadata": {
  "orig_nbformat": 4,
  "language_info": {
   "name": "python",
   "version": "3.8.10",
   "mimetype": "text/x-python",
   "codemirror_mode": {
    "name": "ipython",
    "version": 3
   },
   "pygments_lexer": "ipython3",
   "nbconvert_exporter": "python",
   "file_extension": ".py"
  },
  "kernelspec": {
   "name": "python3",
   "display_name": "Python 3.8.10 64-bit"
  },
  "interpreter": {
   "hash": "31f2aee4e71d21fbe5cf8b01ff0e069b9275f58929596ceb00d14d90e3e16cd6"
  }
 },
 "nbformat": 4,
 "nbformat_minor": 2
}