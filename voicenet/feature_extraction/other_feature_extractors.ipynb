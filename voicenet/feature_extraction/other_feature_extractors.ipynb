{
 "cells": [
  {
   "cell_type": "markdown",
   "source": [
    "## Feature Extraction"
   ],
   "metadata": {}
  },
  {
   "cell_type": "code",
   "execution_count": 1,
   "source": [
    "from python_speech_features import mfcc, delta\n",
    "import scipy.io.wavfile as wav\n",
    "from sklearn import preprocessing\n",
    "import os\n",
    "import numpy as np\n",
    "import wave\n",
    "import librosa\n",
    "import librosa\n",
    "import librosa.display\n",
    "import matplotlib.pyplot as plt "
   ],
   "outputs": [],
   "metadata": {}
  },
  {
   "cell_type": "markdown",
   "source": [
    "### Loading"
   ],
   "metadata": {}
  },
  {
   "cell_type": "markdown",
   "source": [
    "<b>With Librosa"
   ],
   "metadata": {}
  },
  {
   "cell_type": "code",
   "execution_count": 2,
   "source": [
    "plt.figure(figsize=(10,7))\n",
    "data,sample_rate=librosa.load('ST-AEDS-20180100_1-OS/m0005_us_m0005_00422.wav')\n",
    "#librosa.display.waveplot(data,sr=sample_rate)\n",
    "print(sample_rate)"
   ],
   "outputs": [
    {
     "output_type": "stream",
     "name": "stdout",
     "text": [
      "22050\n"
     ]
    },
    {
     "output_type": "display_data",
     "data": {
      "text/plain": [
       "<Figure size 720x504 with 0 Axes>"
      ]
     },
     "metadata": {}
    }
   ],
   "metadata": {}
  },
  {
   "cell_type": "markdown",
   "source": [
    "<b> With Scipy"
   ],
   "metadata": {}
  },
  {
   "cell_type": "code",
   "execution_count": 3,
   "source": [
    "from scipy.io import wavfile as wav\n",
    "rate,audio=wav.read('ST-AEDS-20180100_1-OS/m0005_us_m0005_00422.wav')\n",
    "print(audio.shape)\n",
    "print(rate)"
   ],
   "outputs": [
    {
     "output_type": "stream",
     "name": "stdout",
     "text": [
      "(52480,)\n",
      "16000\n"
     ]
    }
   ],
   "metadata": {}
  },
  {
   "cell_type": "markdown",
   "source": [
    "### MFCC"
   ],
   "metadata": {}
  },
  {
   "cell_type": "code",
   "execution_count": 5,
   "source": [
    "def MFCC(filename):\n",
    "    \n",
    "    (rate,sig) = wav.read(os.path.join(filename))\n",
    "    mfcc_feature = mfcc(sig,rate, lowfreq=0,)\n",
    "    mfcc_feature  = preprocessing.scale(mfcc_feature)\n",
    "    deltas        = delta(mfcc_feature, 2)\n",
    "    double_deltas = delta(deltas, 2)\n",
    "    combined_feature      = np.hstack((mfcc_feature, deltas, double_deltas))\n",
    "    return combined_feature"
   ],
   "outputs": [],
   "metadata": {}
  },
  {
   "cell_type": "code",
   "execution_count": 7,
   "source": [
    "MFCC('ST-AEDS-20180100_1-OS/m0005_us_m0005_00422.wav').shape"
   ],
   "outputs": [
    {
     "output_type": "execute_result",
     "data": {
      "text/plain": [
       "(327, 39)"
      ]
     },
     "metadata": {},
     "execution_count": 7
    }
   ],
   "metadata": {}
  },
  {
   "cell_type": "markdown",
   "source": [
    "### Filterbank"
   ],
   "metadata": {}
  },
  {
   "cell_type": "code",
   "execution_count": 8,
   "source": [
    "from python_speech_features import fbank"
   ],
   "outputs": [],
   "metadata": {}
  },
  {
   "cell_type": "code",
   "execution_count": 9,
   "source": [
    "def filterbank(filename):   \n",
    "    (rate,sig) = wav.read(os.path.join(filename))\n",
    "    fb_feature=fbank(audio,rate,lowfreq=0,)\n",
    "    fb_feature  = preprocessing.scale(fb_feature[0])\n",
    "    deltas        = delta(fb_feature, 2)\n",
    "    double_deltas = delta(deltas, 2)\n",
    "    combined_feature      = np.hstack((fb_feature, deltas, double_deltas))\n",
    "    return combined_feature"
   ],
   "outputs": [],
   "metadata": {}
  },
  {
   "cell_type": "code",
   "execution_count": 11,
   "source": [
    "filterbank('ST-AEDS-20180100_1-OS/m0005_us_m0005_00422.wav').shape"
   ],
   "outputs": [
    {
     "output_type": "execute_result",
     "data": {
      "text/plain": [
       "(295, 78)"
      ]
     },
     "metadata": {},
     "execution_count": 11
    }
   ],
   "metadata": {}
  },
  {
   "cell_type": "markdown",
   "source": [
    "## Spafe\n",
    "[SPAFE](https://github.com/SuperKogito/spafe) has a collection of different feature extractors implemented. Various examples on how to use spafe filter banks or feature extraction techniques are available under [examples](https://github.com/SuperKogito/spafe/tree/master/examples)."
   ],
   "metadata": {}
  },
  {
   "cell_type": "code",
   "execution_count": 15,
   "source": [
    "pip install spafe"
   ],
   "outputs": [
    {
     "output_type": "stream",
     "name": "stdout",
     "text": [
      "Requirement already satisfied: spafe in ./voicenv/lib/python3.8/site-packages (0.1.2)\n",
      "Requirement already satisfied: numpy>=1.17.2 in ./voicenv/lib/python3.8/site-packages (from spafe) (1.21.1)\n",
      "Requirement already satisfied: scipy>=1.3.1 in ./voicenv/lib/python3.8/site-packages (from spafe) (1.7.1)\n",
      "Note: you may need to restart the kernel to use updated packages.\n"
     ]
    }
   ],
   "metadata": {}
  },
  {
   "cell_type": "markdown",
   "source": [
    "### Linear Predictive Coding (LPC)"
   ],
   "metadata": {}
  },
  {
   "cell_type": "code",
   "execution_count": 40,
   "source": [
    "from spafe.features.lpc import lpc,lpcc\n",
    "\n",
    "def lpc_spafe(filename):   \n",
    "    (rate,sig) = wav.read(os.path.join(filename))\n",
    "    lpc_feature=lpc(audio,rate) #or lpcc(audio,rate)\n",
    "    lpc_feature\n",
    "    lpc_feature  = preprocessing.scale(lpc_feature)\n",
    "    deltas        = delta(lpc_feature, 2)\n",
    "    double_deltas = delta(deltas, 2)\n",
    "    combined_feature      = np.hstack((lpc_feature, deltas, double_deltas))\n",
    "    return combined_feature"
   ],
   "outputs": [],
   "metadata": {}
  },
  {
   "cell_type": "code",
   "execution_count": 33,
   "source": [
    "lpc_spafe('ST-AEDS-20180100_1-OS/m0005_us_m0005_00422.wav').shape"
   ],
   "outputs": [
    {
     "output_type": "execute_result",
     "data": {
      "text/plain": [
       "(302, 39)"
      ]
     },
     "metadata": {},
     "execution_count": 33
    }
   ],
   "metadata": {}
  },
  {
   "cell_type": "markdown",
   "source": [
    "### Bark Frequency Cepstral Coefficient (BFCC)"
   ],
   "metadata": {}
  },
  {
   "cell_type": "code",
   "execution_count": 41,
   "source": [
    "from spafe.features.bfcc import bfcc\n",
    "\n",
    "def bfcc_spafe(filename):   \n",
    "    (rate,sig) = wav.read(os.path.join(filename))\n",
    "    bfcc_feature=bfcc(audio,rate,low_freq=0)\n",
    "    bfcc_feature\n",
    "    bfcc_feature  = preprocessing.scale(bfcc_feature)\n",
    "    deltas        = delta(bfcc_feature, 2)\n",
    "    double_deltas = delta(deltas, 2)\n",
    "    combined_feature      = np.hstack((bfcc_feature, deltas, double_deltas))\n",
    "    return combined_feature"
   ],
   "outputs": [],
   "metadata": {}
  },
  {
   "cell_type": "code",
   "execution_count": 43,
   "source": [
    "bfcc_spafe('ST-AEDS-20180100_1-OS/m0005_us_m0005_00422.wav')"
   ],
   "outputs": [
    {
     "output_type": "execute_result",
     "data": {
      "text/plain": [
       "array([[-1.42943682, -0.6450405 ,  0.60054584, ...,  0.12046899,\n",
       "        -0.01962624,  0.02168859],\n",
       "       [-1.38444159, -0.3518967 ,  0.4842991 , ...,  0.29461665,\n",
       "         0.0912562 ,  0.05895109],\n",
       "       [-1.63192793, -0.92039695,  0.54013201, ...,  0.31955457,\n",
       "         0.16139025,  0.0458816 ],\n",
       "       ...,\n",
       "       [-1.45688349, -0.86768371,  0.7054231 , ..., -0.11864573,\n",
       "        -0.01228361, -0.07109461],\n",
       "       [-1.43669033, -0.76434432,  0.66945078, ..., -0.13705815,\n",
       "        -0.01466392, -0.07000513],\n",
       "       [-1.37364182, -0.63061857,  0.66986331, ..., -0.08221595,\n",
       "        -0.01608087, -0.03467854]])"
      ]
     },
     "metadata": {},
     "execution_count": 43
    }
   ],
   "metadata": {}
  }
 ],
 "metadata": {
  "orig_nbformat": 4,
  "language_info": {
   "name": "python",
   "version": "3.8.10",
   "mimetype": "text/x-python",
   "codemirror_mode": {
    "name": "ipython",
    "version": 3
   },
   "pygments_lexer": "ipython3",
   "nbconvert_exporter": "python",
   "file_extension": ".py"
  },
  "kernelspec": {
   "name": "python3",
   "display_name": "Python 3.8.10 64-bit ('vnet': venv)"
  },
  "interpreter": {
   "hash": "b7fb06f20a54315cd08d248cbd6aedd0c33936020cd502f633943d8a97203fd4"
  }
 },
 "nbformat": 4,
 "nbformat_minor": 2
}